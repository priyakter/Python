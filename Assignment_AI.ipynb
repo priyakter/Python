{
  "nbformat": 4,
  "nbformat_minor": 0,
  "metadata": {
    "colab": {
      "provenance": [],
      "gpuType": "T4",
      "authorship_tag": "ABX9TyMSdriK051+yjPT36zeJvQ0",
      "include_colab_link": true
    },
    "kernelspec": {
      "name": "python3",
      "display_name": "Python 3"
    },
    "language_info": {
      "name": "python"
    },
    "accelerator": "GPU"
  },
  "cells": [
    {
      "cell_type": "markdown",
      "metadata": {
        "id": "view-in-github",
        "colab_type": "text"
      },
      "source": [
        "<a href=\"https://colab.research.google.com/github/priyakter/Python/blob/main/Assignment_AI.ipynb\" target=\"_parent\"><img src=\"https://colab.research.google.com/assets/colab-badge.svg\" alt=\"Open In Colab\"/></a>"
      ]
    },
    {
      "cell_type": "code",
      "execution_count": 1,
      "metadata": {
        "id": "dz-GrZruTi_I",
        "outputId": "a9396f30-07f4-493f-f4f7-5d624b46f1e4",
        "colab": {
          "base_uri": "https://localhost:8080/"
        }
      },
      "outputs": [
        {
          "output_type": "stream",
          "name": "stdout",
          "text": [
            "Enter the size of random number,n = 15\n",
            "random numbers= [100, 83, 94, 62, 29, 18, 95, 100, 20, 18, 11, 71, 57, 40, 6]\n"
          ]
        }
      ],
      "source": [
        "import random\n",
        "\n",
        "n = int(input(\"Enter the size of random number,n = \"))\n",
        "\n",
        "random_numbers = [random.randint(1, 100) for _ in range(n)]\n",
        "\n",
        "print(f\"random numbers= {random_numbers}\")\n",
        "\n"
      ]
    },
    {
      "cell_type": "code",
      "source": [
        "def flip(stack, k):\n",
        "    stack[:k] = reversed(stack[:k])\n",
        "\n",
        "def pancake_sort(stack):\n",
        "    flips = []\n",
        "\n",
        "    for size in range(n, 1, -1):\n",
        "        max_index = stack.index(max(stack[:size]))\n",
        "\n",
        "\n",
        "        if max_index != size - 1:\n",
        "            if max_index != 0:\n",
        "                flip(stack, max_index + 1)\n",
        "                flips.append(stack.copy())\n",
        "\n",
        "            flip(stack, size)\n",
        "            flips.append(stack.copy())\n",
        "\n",
        "    return flips\n",
        "\n",
        "print(\"Initial stack:\", random_numbers)\n",
        "flips = pancake_sort(random_numbers)\n",
        "print(\"Flip sequences:\")\n",
        "for i, flip_state in enumerate(flips):\n",
        "    print(f\"Flip {i + 1}: {flip_state}\")\n"
      ],
      "metadata": {
        "id": "Jo0J28w0VRL5",
        "outputId": "5ea8082d-1f3e-43ab-f5a0-5661feae9d57",
        "colab": {
          "base_uri": "https://localhost:8080/"
        }
      },
      "execution_count": 2,
      "outputs": [
        {
          "output_type": "stream",
          "name": "stdout",
          "text": [
            "Initial stack: [100, 83, 94, 62, 29, 18, 95, 100, 20, 18, 11, 71, 57, 40, 6]\n",
            "Flip sequences:\n",
            "Flip 1: [6, 40, 57, 71, 11, 18, 20, 100, 95, 18, 29, 62, 94, 83, 100]\n",
            "Flip 2: [100, 20, 18, 11, 71, 57, 40, 6, 95, 18, 29, 62, 94, 83, 100]\n",
            "Flip 3: [83, 94, 62, 29, 18, 95, 6, 40, 57, 71, 11, 18, 20, 100, 100]\n",
            "Flip 4: [95, 18, 29, 62, 94, 83, 6, 40, 57, 71, 11, 18, 20, 100, 100]\n",
            "Flip 5: [20, 18, 11, 71, 57, 40, 6, 83, 94, 62, 29, 18, 95, 100, 100]\n",
            "Flip 6: [94, 83, 6, 40, 57, 71, 11, 18, 20, 62, 29, 18, 95, 100, 100]\n",
            "Flip 7: [18, 29, 62, 20, 18, 11, 71, 57, 40, 6, 83, 94, 95, 100, 100]\n",
            "Flip 8: [71, 11, 18, 20, 62, 29, 18, 57, 40, 6, 83, 94, 95, 100, 100]\n",
            "Flip 9: [6, 40, 57, 18, 29, 62, 20, 18, 11, 71, 83, 94, 95, 100, 100]\n",
            "Flip 10: [62, 29, 18, 57, 40, 6, 20, 18, 11, 71, 83, 94, 95, 100, 100]\n",
            "Flip 11: [11, 18, 20, 6, 40, 57, 18, 29, 62, 71, 83, 94, 95, 100, 100]\n",
            "Flip 12: [57, 40, 6, 20, 18, 11, 18, 29, 62, 71, 83, 94, 95, 100, 100]\n",
            "Flip 13: [29, 18, 11, 18, 20, 6, 40, 57, 62, 71, 83, 94, 95, 100, 100]\n",
            "Flip 14: [6, 20, 18, 11, 18, 29, 40, 57, 62, 71, 83, 94, 95, 100, 100]\n",
            "Flip 15: [20, 6, 18, 11, 18, 29, 40, 57, 62, 71, 83, 94, 95, 100, 100]\n",
            "Flip 16: [18, 11, 18, 6, 20, 29, 40, 57, 62, 71, 83, 94, 95, 100, 100]\n",
            "Flip 17: [6, 18, 11, 18, 20, 29, 40, 57, 62, 71, 83, 94, 95, 100, 100]\n",
            "Flip 18: [18, 6, 11, 18, 20, 29, 40, 57, 62, 71, 83, 94, 95, 100, 100]\n",
            "Flip 19: [11, 6, 18, 18, 20, 29, 40, 57, 62, 71, 83, 94, 95, 100, 100]\n",
            "Flip 20: [6, 11, 18, 18, 20, 29, 40, 57, 62, 71, 83, 94, 95, 100, 100]\n"
          ]
        }
      ]
    }
  ]
}