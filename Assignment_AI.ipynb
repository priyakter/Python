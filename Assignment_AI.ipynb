{
  "nbformat": 4,
  "nbformat_minor": 0,
  "metadata": {
    "colab": {
      "provenance": [],
      "gpuType": "T4",
      "authorship_tag": "ABX9TyMts4hYh2P0kEW8GdN/3o6e",
      "include_colab_link": true
    },
    "kernelspec": {
      "name": "python3",
      "display_name": "Python 3"
    },
    "language_info": {
      "name": "python"
    },
    "accelerator": "GPU"
  },
  "cells": [
    {
      "cell_type": "markdown",
      "metadata": {
        "id": "view-in-github",
        "colab_type": "text"
      },
      "source": [
        "<a href=\"https://colab.research.google.com/github/priyakter/Python/blob/main/Assignment_AI.ipynb\" target=\"_parent\"><img src=\"https://colab.research.google.com/assets/colab-badge.svg\" alt=\"Open In Colab\"/></a>"
      ]
    },
    {
      "cell_type": "code",
      "execution_count": null,
      "metadata": {
        "id": "dz-GrZruTi_I"
      },
      "outputs": [],
      "source": [
        "import random\n",
        "\n",
        "n = int(input(\"Enter the size of random number,n = \"))\n",
        "\n",
        "\n",
        "random_numbers = [random.randint(1, 100) for _ in range(n)]\n",
        "\n",
        "print(f\"random numbers= {random_numbers}\")\n",
        "\n"
      ]
    },
    {
      "cell_type": "code",
      "source": [
        "def flip(stack, k):\n",
        "    \"\"\"Flip the top k pancakes in the stack.\"\"\"\n",
        "    stack[:k] = reversed(stack[:k])\n",
        "\n",
        "def pancake_sort(stack):\n",
        "\n",
        "    flips = []\n",
        "\n",
        "    for size in range(n, 1, -1):\n",
        "        # Find the index of the current maximum pancake\n",
        "        max_index = stack.index(max(stack[:size]))\n",
        "\n",
        "        # If the maximum pancake is not already in its correct position\n",
        "        if max_index != size - 1:\n",
        "            # If the maximum pancake is not at the top, flip it to the top\n",
        "            if max_index != 0:\n",
        "                flip(stack, max_index + 1)\n",
        "                flips.append(stack.copy())\n",
        "\n",
        "            # Now flip it to its correct position\n",
        "            flip(stack, size)\n",
        "            flips.append(stack.copy())\n",
        "\n",
        "    return flips\n",
        "\n",
        "print(\"Initial stack:\", random_numbers)\n",
        "flips = pancake_sort(random_numbers)\n",
        "print(\"Flip sequences:\")\n",
        "for i, flip_state in enumerate(flips):\n",
        "    print(f\"Flip {i + 1}: {flip_state}\")\n"
      ],
      "metadata": {
        "id": "Jo0J28w0VRL5"
      },
      "execution_count": null,
      "outputs": []
    }
  ]
}