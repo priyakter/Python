{
  "nbformat": 4,
  "nbformat_minor": 0,
  "metadata": {
    "colab": {
      "provenance": [],
      "authorship_tag": "ABX9TyMLDq5f8MYYO0DmuAKRof3q",
      "include_colab_link": true
    },
    "kernelspec": {
      "name": "python3",
      "display_name": "Python 3"
    },
    "language_info": {
      "name": "python"
    }
  },
  "cells": [
    {
      "cell_type": "markdown",
      "metadata": {
        "id": "view-in-github",
        "colab_type": "text"
      },
      "source": [
        "<a href=\"https://colab.research.google.com/github/priyakter/Python/blob/main/Pan_Cake.ipynb\" target=\"_parent\"><img src=\"https://colab.research.google.com/assets/colab-badge.svg\" alt=\"Open In Colab\"/></a>"
      ]
    },
    {
      "cell_type": "code",
      "execution_count": 19,
      "metadata": {
        "id": "3i9tQtnjI8aG",
        "colab": {
          "base_uri": "https://localhost:8080/"
        },
        "outputId": "b0fca3b8-a7a5-4e87-f434-66aafb2276fc"
      },
      "outputs": [
        {
          "output_type": "stream",
          "name": "stdout",
          "text": [
            "Enter the size of random number,n = 5\n",
            "random numbers= [95, 53, 37, 94, 17]\n"
          ]
        }
      ],
      "source": [
        "import random\n",
        "\n",
        "n = int(input(\"Enter the size of random number,n = \"))\n",
        "\n",
        "random_numbers = [random.randint(1, 100) for _ in range(n)]\n",
        "\n",
        "print(f\"random numbers= {random_numbers}\")\n"
      ]
    },
    {
      "cell_type": "code",
      "source": [
        "from collections import deque\n",
        "\n",
        "def flip(stack, k):\n",
        "    \"\"\"Flip the first k elements of the stack.\"\"\"\n",
        "    return stack[:k][::-1] + stack[k:]\n",
        "\n",
        "def pancake_sort_bfs(initial_stack):\n",
        "    target_stack = sorted(initial_stack)\n",
        "    queue = deque([(initial_stack, [])])\n",
        "    visited = set()\n",
        "\n",
        "    while queue:\n",
        "        current_stack, current_flips = queue.popleft()\n",
        "\n",
        "\n",
        "        if current_stack == target_stack:\n",
        "            return current_flips\n",
        "\n",
        "        for i in range(2, len(current_stack) + 1):\n",
        "            next_stack = flip(current_stack, i)\n",
        "            if tuple(next_stack) not in visited:\n",
        "                visited.add(tuple(next_stack))\n",
        "                queue.append((next_stack, current_flips + [next_stack]))\n",
        "\n",
        "\n",
        "    return []\n",
        "\n",
        "print(\"Initial stack:\", random_numbers)\n",
        "flip_sequences = pancake_sort_bfs(random_numbers)\n",
        "print(\"Flip sequences:\")\n",
        "for i, flip_state in enumerate(flip_sequences):\n",
        "    print(f\"Flip {i + 1}: {flip_state}\")\n",
        "\n",
        "\n",
        "\n"
      ],
      "metadata": {
        "colab": {
          "base_uri": "https://localhost:8080/"
        },
        "id": "Bbjbw2OOT_5R",
        "outputId": "84db4851-87b3-498c-822c-c8c892f88579"
      },
      "execution_count": 20,
      "outputs": [
        {
          "output_type": "stream",
          "name": "stdout",
          "text": [
            "Initial stack: [95, 53, 37, 94, 17]\n",
            "Flip sequences:\n",
            "Flip 1: [37, 53, 95, 94, 17]\n",
            "Flip 2: [94, 95, 53, 37, 17]\n",
            "Flip 3: [95, 94, 53, 37, 17]\n",
            "Flip 4: [17, 37, 53, 94, 95]\n"
          ]
        }
      ]
    },
    {
      "cell_type": "code",
      "source": [],
      "metadata": {
        "id": "jgZlBwqBnrpD"
      },
      "execution_count": null,
      "outputs": []
    }
  ]
}